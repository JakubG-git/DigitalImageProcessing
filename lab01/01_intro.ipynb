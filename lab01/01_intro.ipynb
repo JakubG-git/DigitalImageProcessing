{
  "cells": [
    {
      "cell_type": "markdown",
      "metadata": {
        "id": "7vMPJPonERJg"
      },
      "source": [
        "W ramach kursu będziemy wykorzystywać głównie bibliotekę OpenCV (Open Computer Vision Library).\n",
        "W trakcie niniejszego ćwiczenia zapoznamy się z podstawowymi funkcjonalnościami: wczytaniami, zapisywaniem, konwersją do inne przestrzeni barw.\n",
        "Zaznajomimy się również z Jupyter Notebook."
      ]
    },
    {
      "cell_type": "markdown",
      "metadata": {
        "id": "e4zAaB1sERJi"
      },
      "source": [
        "Wczytywanie obrazów z wykorzystaniem OpenCV.\n",
        "1. Zaimportuj bibliotekę OpenCV:\n",
        "        `import cv2`\n",
        "1. Zaimportuj bibliotekę pyplot z matplotlib jako plt:\n",
        "        `from matplotlib import pyplot as plt`\n",
        "1. Wygodną opcją jest możliwość pobierania danych (obrazów, ale też np. baz danych) z sieci.\n",
        "   Eliminuje to konieczność pobierania danych np. z Moodle oraz czyni uzupełniony Notebook \"samowystarczalnym\" - wystarczy go uruchomić.\n",
        "   * zaimportuj bibliotekę os `import os`\n",
        "   * zaimportuj bibliotekę request `import requests`\n",
        "   * stwórz zmienne na adres pobieranego pliku (*url*) i samą jego nazwę (*fileName*)\n",
        "   * sprawdź, czy taki plik istnieje (unikniemy wielokrotnego pobierania tych samych danych)\n",
        "        `if not os.path.exists(fileName) :`\n",
        "   * pobierz plik: `r = requests.get(url + fileName, allow_redirects=True)`\n",
        "   * zapisz na dysku: `open(fileName, 'wb').write(r.content)`\n",
        "\n",
        "1. Wykorzystując polecenie *imread* wczytaj obraz *mandril.jpg*\n",
        "1. Wyświetl obraz wykorzystując bibliotekę *pyplot*\n",
        "        plt.imshow(I)\n",
        "        plt.xticks([]), plt.yticks([])\n",
        "        plt.show()\n",
        "1. Jeśli ktoś nie wie jak powinien wyglądać mandryl, to proszę podglądnąć obraz na GitHub lub w sprawdzić w Interencie.\n",
        "   Przyczyną problemu jest sposób w jaki funkcja `imread` z OpenCV odczytuje obraz (BGR, zamiast RGB).\n",
        "   Obrazom kolorowym będzie poświęcone odrębne ćwiczenie, także nie będziemy w tym miejscu rozwijać tego wątku.\n",
        "1. W celu poprawnego wyświetlenia należy dokonać konwersji koloru z BGR na RGB.\n",
        "        I = cv2.cvtColor(I, cv2.COLOR_BGR2RGB)\n",
        "1. Dla porządku warto dodać, że w OpenCV do wyświetlania domyślnie wykorzystuje się funkcję `imshow`.\n",
        "   Jednakże w przypadku Jupyter Notebook to rozwiązanie ma pewne wady i dlatego nie będziemy jej używać.\n",
        "   Natomiast jeśli ktoś pracuje w \"czystym\" Python, to jest to na pewno równoważna funkcjonalność.\n"
      ]
    },
    {
      "cell_type": "code",
      "execution_count": null,
      "metadata": {
        "id": "iALBqN0tERJj"
      },
      "outputs": [],
      "source": [
        "import cv2\n",
        "import os\n",
        "from matplotlib import pyplot as plt\n",
        "import requests\n",
        "\n",
        "\n",
        "url = 'https://raw.githubusercontent.com/vision-agh/poc_sw/master/01_Intro/'\n",
        "fileName = 'mandril.jpg'\n",
        "if not os.path.exists(fileName) :\n",
        "    r = requests.get(url + fileName, allow_redirects=True)\n",
        "    open(fileName, 'wb').write(r.content)"
      ]
    },
    {
      "cell_type": "markdown",
      "metadata": {
        "id": "Rn0dnRNmERJk"
      },
      "source": [
        "W praktycznych rozważaniach często analizuje się obrazy w odcieniach szarości (ang. *grayscale*).\n",
        "Do konwersji służy znana już funkcja `cvtColor` tylko tym razem z parametrem `cv2.COLOR_RGB2GRAY`.\n",
        "Proszę spróbować wyświetlić obraz.\n",
        "Może okazać się, że nadal jest kolorowy, choć inaczej.\n",
        "Dlaczego tak się dzieje zostanie obszerniej wyjaśnione pod koniec ćwiczenia.\n",
        "Na razie należy dodać polecenie `plt.gray()` przed `plt.show`.\n"
      ]
    },
    {
      "cell_type": "code",
      "execution_count": null,
      "metadata": {
        "id": "Ce3D-FtUERJk"
      },
      "outputs": [],
      "source": [
        "picture_dw = cv2.imread(fileName)\n",
        "plt.imshow(picture_dw)\n",
        "plt.xticks([]), plt.yticks([])\n",
        "plt.show()"
      ]
    },
    {
      "cell_type": "code",
      "source": [
        "picture_dw_RGB = cv2.cvtColor(picture_dw, cv2.COLOR_BGR2RGB)\n",
        "plt.imshow(picture_dw_RGB)\n",
        "plt.xticks([]), plt.yticks([])\n",
        "plt.show()"
      ],
      "metadata": {
        "id": "VqJNs_uFnQir"
      },
      "execution_count": null,
      "outputs": []
    },
    {
      "cell_type": "code",
      "source": [
        "picture_dw_grayed_out = cv2.cvtColor(picture_dw_RGB, cv2.COLOR_RGB2GRAY)\n",
        "plt.imshow(picture_dw_grayed_out)\n",
        "plt.xticks([]), plt.yticks([])\n",
        "plt.gray()\n",
        "plt.show()"
      ],
      "metadata": {
        "id": "Czh8NzsVme4Y"
      },
      "execution_count": null,
      "outputs": []
    },
    {
      "cell_type": "markdown",
      "metadata": {
        "id": "K-gRi3RiERJk"
      },
      "source": [
        "Czasami konieczne jest zapisanie przetworzonego obrazu.\n",
        "Służy do tego funkcja `cv2.imwrite`.\n",
        "Proszę zapisać szarą wersję mandryla w formacie *png*.\n",
        "Warto sprawdzić, czy obraz zapisał się poprawnie tj. otworzyć go w aplikacji do przeglądania obrazów."
      ]
    },
    {
      "cell_type": "code",
      "execution_count": null,
      "metadata": {
        "id": "gTW57GK_ERJl"
      },
      "outputs": [],
      "source": [
        "cv2.imwrite('mandryl_gray.png',picture_dw_grayed_out)"
      ]
    },
    {
      "cell_type": "markdown",
      "metadata": {
        "id": "JgUzYIefERJl"
      },
      "source": [
        "Obraz w skali szarości możemy traktować jako dwuwymiarową funkcję $L(x,y)$, gdzie $x$, $y$ to współrzędne piksela, a $L(x,y)$ poziom jasności (najczęściej [0;255] - zapis na 8-bitach, typ *unsigned int*).\n",
        "Wyświetl obraz mandryl jako funkcję dwuwymiarową (uwaga - to chwilę się liczy):\n"
      ]
    },
    {
      "cell_type": "code",
      "execution_count": null,
      "metadata": {
        "id": "ySHP0mkoERJl"
      },
      "outputs": [],
      "source": [
        "import numpy as np\n",
        "\n",
        "# create grid\n",
        "xx, yy = np.mgrid[0:picture_dw_grayed_out.shape[0], 0:picture_dw_grayed_out.shape[1]]\n",
        "\n",
        "# create the figure\n",
        "fig = plt.figure()\n",
        "ax = fig.add_subplot(projection = '3d')\n",
        "ax.plot_surface(xx, yy, picture_dw_grayed_out ,rstride=1, cstride=1, cmap=plt.get_cmap('gray'),\n",
        "        linewidth=0)\n",
        "\n",
        "# show it\n",
        "plt.show()"
      ]
    },
    {
      "cell_type": "markdown",
      "metadata": {
        "pycharm": {
          "name": "#%% md\n"
        },
        "id": "Gbw8EhryERJn"
      },
      "source": [
        "Komentarz:\n",
        "- używamy biblioteki do obliczeń *numpy*,\n",
        "- tworzymy siatkę punktów o rozmiarach takich jak obraz (*shape*),\n",
        "- rysujemy wykres 3D\n"
      ]
    },
    {
      "cell_type": "markdown",
      "metadata": {
        "id": "-BUuROqKERJn"
      },
      "source": [
        "Podczas przetwarzania i analizy obrazów przydatne bywają \"przekroje\" przez obraz, czyli wartości funkcji $L(x,y)$ w przypadku gdy $x$ lub $y$ jest ustalone.\n",
        "Wykonaj jeden wybrany przekrój w $x$ i $y$:\n",
        "- po pierwsze należy pobrać dany wiersz lub kolumnę - np. `S = IG[10,:]` (tu jedenasty wiersz),\n",
        "- po drugie stworzyć wykres złożony z dwóch subwykresów: `f, (ax1,ax2) = plt.subplots(1,2)`\n",
        "- dla każdego z nich ustawić tytuł (np. `ax1.set_title('XXX')`) oraz treść `ax1.plot(S)`,\n",
        "- na koniec całość wyświetlić `plt.show()`.\n",
        "\n",
        "\n",
        "\n",
        "\n"
      ]
    },
    {
      "cell_type": "code",
      "execution_count": null,
      "metadata": {
        "id": "U9MGTP9kERJn"
      },
      "outputs": [],
      "source": [
        "Sr = picture_dw_grayed_out[10,:]\n",
        "Sc = picture_dw_grayed_out[:,10]\n",
        "\n",
        "f, (ax1,ax2) = plt.subplots(1,2)\n",
        "\n",
        "ax1.set_title('row')\n",
        "ax2.set_title('column')\n",
        "\n",
        "ax1.plot(Sr)\n",
        "ax2.plot(Sc)\n",
        "\n",
        "plt.show()"
      ]
    },
    {
      "cell_type": "markdown",
      "metadata": {
        "id": "-vW-BZ4KERJn"
      },
      "source": [
        "Obrazy indeksowane składają się z dwóch macierzy - obrazu oraz tzw. mapy kolorów.\n",
        "W macierzy obrazu zapisane są wartości poszczególnych pikseli.\n",
        "Macierz mapy kolorów ma rozmiar $m \\times 3$ ($m$ wierszy, w~każdym 3 wartości - składowe R,G,B).\n",
        "Podczas wyświetlania, na podstawie wartości piksela, odczytywany jest kolor z macierzy mapy kolorów.\n",
        "W ten sposób możliwe staje się \"pokolorowanie\" obrazu w skali szarości (stąd wcześniej szary mandryl był kolorowy).\n",
        "Wykorzystanie pseudokoloru nie wpływa na ilość informacji zawartej na obrazku, pomaga jedynie przedstawić go w bardziej czytelnej (dla człowieka) formie.\n",
        "Przykładowo można uzyskać poprawę kontrastu, co jest ważne przy analizie np. obrazów medycznych.\n",
        "Bardziej obszerny opis i spis dostępnym map można znaleźć w [dokumentacji.](https://matplotlib.org/3.1.0/tutorials/colors/colormaps.html)\n",
        "\n",
        "Wykorzystując dokumentację oraz polecenie `plt.imshow(IG, cmap=plt.get_cmap('XXX'))` proszę wyświetlić obraz madryl w 4 różnych mapach kolorów.\n"
      ]
    },
    {
      "cell_type": "code",
      "execution_count": null,
      "metadata": {
        "id": "JMUuHovtERJn"
      },
      "outputs": [],
      "source": [
        "plt.imshow(picture_dw_grayed_out, cmap=plt.get_cmap('twilight'))"
      ]
    },
    {
      "cell_type": "code",
      "execution_count": null,
      "metadata": {
        "id": "BhRKzDNkERJo"
      },
      "outputs": [],
      "source": [
        "plt.imshow(picture_dw_grayed_out, cmap=plt.get_cmap('Greens'))"
      ]
    },
    {
      "cell_type": "code",
      "source": [
        "plt.imshow(picture_dw_grayed_out, cmap=plt.get_cmap('hot'))"
      ],
      "metadata": {
        "id": "FRV75HmMqyyR"
      },
      "execution_count": null,
      "outputs": []
    },
    {
      "cell_type": "code",
      "source": [
        "plt.imshow(picture_dw_grayed_out, cmap=plt.get_cmap('Reds'))"
      ],
      "metadata": {
        "id": "Kj5KRzPQqyo-"
      },
      "execution_count": null,
      "outputs": []
    },
    {
      "cell_type": "code",
      "source": [],
      "metadata": {
        "id": "2212G6bJqyYY"
      },
      "execution_count": null,
      "outputs": []
    }
  ],
  "metadata": {
    "kernelspec": {
      "display_name": "Python 3",
      "language": "python",
      "name": "python3"
    },
    "language_info": {
      "codemirror_mode": {
        "name": "ipython",
        "version": 3
      },
      "file_extension": ".py",
      "mimetype": "text/x-python",
      "name": "python",
      "nbconvert_exporter": "python",
      "pygments_lexer": "ipython3",
      "version": "3.8.3"
    },
    "colab": {
      "provenance": []
    }
  },
  "nbformat": 4,
  "nbformat_minor": 0
}