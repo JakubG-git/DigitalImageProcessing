{
  "cells": [
    {
      "cell_type": "markdown",
      "metadata": {
        "collapsed": false,
        "id": "4Fbe36eKPM0s"
      },
      "source": [
        "## Zadanie domowe: BBHE i DSIHE\n",
        "\n",
        "W klasycznym wyrównywaniu histogramu HE  po wykonaniu operacji jasność obrazu ulega zmianie.\n",
        "Dało się to zaobserwować podczas przeprowadzonych eksperymentów.\n",
        "Jeśli nie to należy uruchomić skrypt z sekcji A i zwrócić na to uwagę.\n",
        "Średnia jasność dąży do środkowego poziomu szarości.\n",
        "Jest to wada i dlatego klasyczne HE ma ograniczone zastosowanie.\n",
        "\n",
        "Powstało sporo metod, które eliminują to niekorzystne zjawisko.\n",
        "Najprostsze z nich polegają na dekompozycji obrazu wejściowego na dwa podobrazy (wg. pewnego kryterium).\n",
        "Następnie operacja HE wykonywana jest dla tych podobrazów.\n",
        "\n",
        "Dwie znane z literatury metody to:\n",
        "- Bi-Histogram Equalization\n",
        "- DSIHE - Dualistic Sub-Image Histogram Equalization\n",
        "\n",
        "W metodzie BBHE za kryterium podziału przyjmuje się średnią jasność w obrazie.\n",
        "W DSIHE obraz dzieli się na dwa podobrazy o takiej samej liczbie pikseli (jaśniejszych i ciemniejszych).\n",
        "\n",
        "W ramach zadania należy zaimplementować wybraną metodę: BBHE lub DSIHE (ew. obie).\n",
        "\n",
        "1. Wczytaj obraz *jet.bmp* i wylicz jego histogram.\n",
        "2. W kolejnym kroku należy wyznaczyć próg podziału obrazu na dwa podobrazy (*lm*).\n",
        "3. Dla BBHE wyznacz średnią jasność obrazu. Dla DSIHE można wykorzystać histogram skumulowany.\n",
        "Należy znaleźć poziom jasności który znajduje się \"w połowie\" histogramu skumulowanego.\n",
        "W tym celu warto stworzyć tablicę, zawierającą moduł histogramu skumulowanego pomniejszonego o połowę liczby pikseli.\n",
        "Następnie znaleźć minimum - `np.argmin`.\n",
        "4. Dalej należy podzielić histogram oryginalnego obrazu na dwa histogramy *H1* i *H2*.\n",
        "Dla każdego z nich wyliczyć histogram skumulowany ($C_1$ i $C_2$) i wykonać normalizację.\n",
        "Normalizacja polega na podzieleniu każdego histogramu przez jego największy element.\n",
        "5. Na podstawie histogramów skumulowanych należy stworzyć przekształcenie LUT.\n",
        "Należy tak przeskalować $C_1$ i $C_2$, aby uzyskać jednorodne przekształcenie.\n",
        "Tablicę $C_1$ wystarczy pomnożyć przez próg podziału.\n",
        "Tablicę $C_2$ należy przeskalować do przedziału: $<lm+1; 255>$, gdzie $lm$ jest progiem podziału.<br>\n",
        "$C_{1n} = (lm)*C1;$<br>\n",
        "$C_{2n} = lm+1 + (255-lm-1)*C2;$<br>\n",
        "Następnie dwie części tablicy przekodowań należy połączyć.\n",
        "6. Ostatecznie należy wykonać operację LUT i wyświetlić wynik wyrównywania histogramu.\n",
        "Porównaj wynik operacji BBHE lub DSIHE z klasycznym HE."
      ]
    },
    {
      "cell_type": "code",
      "execution_count": null,
      "metadata": {
        "id": "c2Q0bFkqPM0v",
        "pycharm": {
          "name": "#%% Zadanie domowe - BBHE\n"
        }
      },
      "outputs": [],
      "source": [
        "import cv2\n",
        "import os\n",
        "import requests\n",
        "from matplotlib import pyplot as plt\n",
        "import numpy as np\n",
        "\n",
        "fileName = 'jet.bmp'\n",
        "url = 'https://raw.githubusercontent.com/vision-agh/poc_sw/master/03_Histogram/'\n",
        "if not os.path.exists(fileName) :\n",
        "    r = requests.get(url + fileName, allow_redirects=True)\n",
        "    open(fileName, 'wb').write(r.content)"
      ]
    },
    {
      "cell_type": "code",
      "execution_count": null,
      "metadata": {
        "id": "KPTV1fMpPM0y",
        "pycharm": {
          "name": "#%% Zadanie domowe - DSIHE\n"
        }
      },
      "outputs": [],
      "source": [
        "jet_img_gs = cv2.imread(fileName, cv2.IMREAD_GRAYSCALE)\n",
        "jet_hist_gs = cv2.calcHist([jet_img_gs], [0], None, [256], [0,256])"
      ]
    },
    {
      "cell_type": "code",
      "execution_count": null,
      "metadata": {},
      "outputs": [],
      "source": [
        "_, ax = plt.subplots(1, 2, figsize=(20, 5))\n",
        "ax[0].imshow(jet_img_gs, 'gray')\n",
        "ax[1].plot(jet_hist_gs)\n",
        "ax[1].set_xlim([0, 256])\n",
        "plt.show()"
      ]
    },
    {
      "cell_type": "code",
      "execution_count": null,
      "metadata": {},
      "outputs": [],
      "source": [
        "#BBHE\n",
        "brightness = np.mean(jet_img_gs)\n",
        "brightness = int(np.floor(brightness))\n",
        "print(\"Average brightness: \", brightness)\n",
        "# 4. Dalej należy podzielić histogram oryginalnego obrazu na dwa histogramy *H1* i *H2*.\n",
        "jet_hist_left, jet_hist_right= jet_hist_gs[:brightness], jet_hist_gs[brightness:]\n",
        "# Dla każdego z nich wyliczyć histogram skumulowany ($C_1$ i $C_2$) i wykonać normalizację.\n",
        "# Normalizacja polega na podzieleniu każdego histogramu przez jego największy element.\n",
        "jet_hist_left_cumsum, jet_hist_right_cumsum = np.cumsum(jet_hist_left), np.cumsum(jet_hist_right)\n",
        "jet_hist_left_cumsum, jet_hist_right_cumsum = jet_hist_left_cumsum / np.max(jet_hist_left_cumsum), jet_hist_right_cumsum / np.max(jet_hist_right_cumsum)\n",
        "# 5. Na podstawie histogramów skumulowanych należy stworzyć przekształcenie LUT.\n",
        "# Należy tak przeskalować $C_1$ i $C_2$, aby uzyskać jednorodne przekształcenie.\n",
        "# Tablicę $C_1$ wystarczy pomnożyć przez próg podziału.\n",
        "jet_hist_left_cumsum = jet_hist_left_cumsum * brightness\n",
        "# Tablicę $C_2$ należy przeskalować do przedziału: $<lm+1; 255>$, gdzie $lm$ jest progiem podziału.<br>\n",
        "jet_hist_right_cumsum = brightness + 1 + (jet_hist_right_cumsum * (255 - brightness - 1))\n",
        "# $C_{1n} = (lm)*C1;$<br>\n",
        "# $C_{2n} = lm+1 + (255-lm-1)*C2;$<br>\n",
        "# Następnie dwie części tablicy przekodowań należy połączyć.\n",
        "lut = np.concatenate((jet_hist_left_cumsum, jet_hist_right_cumsum))\n",
        "# 6. Ostatecznie należy wykonać operację LUT i wyświetlić wynik wyrównywania histogramu.\n",
        "jet_img_gs_bbhe = cv2.LUT(jet_img_gs, lut)\n",
        "# Porównaj wynik operacji BBHE lub DSIHE z klasycznym HE."
      ]
    },
    {
      "cell_type": "code",
      "execution_count": null,
      "metadata": {},
      "outputs": [],
      "source": [
        "\n",
        "_, ax = plt.subplots(1, 2, figsize=(20, 5))\n",
        "ax[0].imshow(jet_img_gs_bbhe, 'gray')\n",
        "ax[0].set_title('BBHE image')\n",
        "ax[1].plot(cv2.calcHist([jet_img_gs_bbhe], [0], None, [256], [0,256]))\n",
        "ax[1].set_title('BBHE histogram')\n",
        "\n",
        "plt.show()"
      ]
    },
    {
      "cell_type": "code",
      "execution_count": null,
      "metadata": {},
      "outputs": [],
      "source": [
        "img_he_jet = cv2.equalizeHist(jet_img_gs)"
      ]
    },
    {
      "cell_type": "code",
      "execution_count": null,
      "metadata": {},
      "outputs": [],
      "source": [
        "_, ax = plt.subplots(1, 2, figsize=(20, 5))\n",
        "ax[0].imshow(img_he_jet, 'gray')\n",
        "ax[0].set_title(\"HE image\")\n",
        "ax[1].plot(cv2.calcHist([img_he_jet], [0], None, [256], [0,256]))\n",
        "ax[1].set_title(\"HE histogram\")\n",
        "plt.show()"
      ]
    }
  ],
  "metadata": {
    "colab": {
      "collapsed_sections": [],
      "provenance": []
    },
    "kernelspec": {
      "display_name": "Python 3",
      "language": "python",
      "name": "python3"
    },
    "language_info": {
      "codemirror_mode": {
        "name": "ipython",
        "version": 3
      },
      "file_extension": ".py",
      "mimetype": "text/x-python",
      "name": "python",
      "nbconvert_exporter": "python",
      "pygments_lexer": "ipython3",
      "version": "3.11.5"
    }
  },
  "nbformat": 4,
  "nbformat_minor": 0
}
