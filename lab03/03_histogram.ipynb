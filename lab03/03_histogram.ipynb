{
  "cells": [
    {
      "cell_type": "markdown",
      "metadata": {
        "id": "GyJVpdDDcDvQ",
        "pycharm": {
          "name": "#%% md\n"
        }
      },
      "source": [
        "# Histogram obrazu. Wyrównywanie histogramu."
      ]
    },
    {
      "cell_type": "markdown",
      "metadata": {
        "collapsed": false,
        "id": "NLeSSymzcDvS",
        "pycharm": {
          "name": "#%% md\n"
        }
      },
      "source": [
        "## Cel ćwiczenia\n",
        "\n",
        "- Zapoznanie z pojęciem histogramu obrazu (w odcieniach szarości i kolorze).\n",
        "- Zapoznanie z metodami modyfikacji histogramu (rozciąganie, wyrównywanie, dopasowywanie)."
      ]
    },
    {
      "cell_type": "markdown",
      "metadata": {
        "collapsed": false,
        "id": "-vb7gT4WcDvT",
        "pycharm": {
          "name": "#%% md\n"
        }
      },
      "source": [
        "## Histogram\n",
        "\n",
        "- Histogramem obrazu nazywamy wykres słupkowy zdefiniowany następującymi zależnościami:<br>\n",
        "\\begin{equation}\n",
        "h(i) = \\sum_{x=0}^{N-1} \\sum_{y=0}^{M-1} p(i,(x,y))\n",
        "\\end{equation}<br>\n",
        "gdzie:<br>\n",
        "\\begin{equation}\n",
        "p(i) =  \\left\\{\n",
        "  \\begin{array}{l l}\n",
        "    1 & \\quad \\text{gdy} f(x,y) = i\\\\\n",
        "    0 & \\quad \\text{gdy} f(x,y) \\ne i\n",
        "  \\end{array} \\right.\n",
        "\\end{equation}\n",
        "\n",
        "- Inaczej mówiąc, histogram zawiera informacje na temat tego ile pikseli o danym poziomie jasności występuje na obrazie (w przypadku obrazu w odcieniach szarości). Określa się to także rozkładem empirycznym cechy.\n",
        "\n",
        "- Często wykorzystuje się tzw. znormalizowaną postać histogramu  – wszystkie wartości $h(i)$ są dzielone przez liczbę pikseli na obrazie.\n",
        "Otrzymana w ten sposób wielkość to gęstość prawdopodobieństwa wystąpienia na obrazie pikseli o odcieniu $i$.\n",
        "\n",
        "- Histogram można zdefiniować również dla obrazów kolorowych.\n",
        "Otrzymujemy wtedy 3 histogramy – po jednym dla danej składowej: R,G,B (lub HSV, YCbCr, itp.) lub histogram trójwymiarowy.\n",
        "\n",
        "- Histogram jest bardzo użyteczny w przetwarzaniu i analizie obrazów.\n",
        "Wykorzystywany jest przy binaryzacji (szerzej na jednym z kolejnych laboratoriów) oraz do oceny jakości (dynamiki, kontrastu) obrazu.\n",
        "W idealnym przypadku wszystkie poziomy jasności w obrazie powinny być wykorzystane (i to najlepiej w miarę jednolicie)  – obrazowo mówiąc histogram powinien rozciągać się od 0  – 255 (obraz w skali szarości).\n",
        "\n",
        "- W przypadku gdy  wykorzystujemy jedynie fragment dostępnego zakresu (wąski histogram)  lub histogram nie jest jednolity (występują dominujące grupy pikseli) obraz ma dość słaby kontrast.\n",
        "Cechę tę można poprawić stosując tzw. rozciąganie albo wyrównywanie histogramu (ang. *histogram equalization*).</div>"
      ]
    },
    {
      "cell_type": "markdown",
      "metadata": {
        "collapsed": false,
        "id": "lFY1GGOecDvU",
        "pycharm": {
          "name": "#%% md\n"
        }
      },
      "source": [
        "## Histogram dla obrazów w odcieniach szarości\n",
        "\n",
        "1. Zaimportuj potrzebne biblioteki: *OpenCV*, *pyplot* z *matplotlib* i *numpy*.\n",
        "        import cv2\n",
        "        from matplotlib import pyplot as plt\n",
        "        import numpy as np\n",
        "2. Wczytaj obrazy *lenaX.bmp* w skali szarości. *X* jest numerem wczytywanego obrazu (1 - 4).\n",
        "        I = cv2.imread('lenaX.bmp', cv2.IMREAD_GRAYSCALE)\n",
        "3. Oblicz histogram wczytanego obrazu wykorzystując funkcję `cv2.calcHist`.\n",
        "    - Pierwszym argumentem jest obraz, dla którego obliczony zostanie histogram.\n",
        "    Należy go przekazać w nawiasie kwadratowym.\n",
        "    - Drugim argumentem jest numer kanału, dla którego ma zostać obliczony histogram.\n",
        "    Również powinien być przekazany w nawiasie kwadratowym.\n",
        "    - Trzeci argument oznacza maskę, czyli obszar, dla którego ma zostać wyznaczony histogram.\n",
        "    Aby obliczyć dla całego obrazu należy przekazać *None*.\n",
        "    - Czwartym argumentem jest rozmiar histogramu (liczba przedziałów).\n",
        "    Argument powinien być w nawiasie kwadratowym. Dla pełnej skali należy przekazać wartość *256*.\n",
        "    - Ostatnim argumentem jest zakres wartości. Dla obrazów typu *uint8* powinien on wynosić *[0, 256]*.\n",
        "    - Funkcja zwraca obliczony histogram.\n",
        "4. Wyświetl wczytane obrazy i ich histogramy w jednym oknie. Użyj `plt.subplot()` w celu stworzenia siatki wykresów.\n",
        "        figLena, axsLena = plt.subplots(2, 4)\n",
        "Rozmiar utworzonego okna można zmienić wykorzystując instrukcję (uwaga w calach -  1 cal to 2.54cm):\n",
        "        figLena.set_size_inches(20, 10)\n",
        "Przykładowe wyświetlenie obrazu:\n",
        "        axsLena[0, 0].imshow(I1, 'gray', vmin=0, vmax=256)\n",
        "        axsLena[0, 0].axis('off')\n",
        "Przykładowe wyświetlenie histogramu:\n",
        "        axsLena[1, 0].plot(H1)\n",
        "        axsLena[1, 0].grid()\n",
        "5. Przeanalizuj (dokładnie) związek histogramu z jasnością i ostrością obrazu (tu rozumianą jako subiektywne odczucie)."
      ]
    },
    {
      "cell_type": "code",
      "execution_count": null,
      "metadata": {
        "id": "KweWeS_UcDvV",
        "pycharm": {
          "name": "#%% Zadanie 1 - wyświetlanie\n"
        }
      },
      "outputs": [],
      "source": [
        "import cv2\n",
        "import os\n",
        "import requests\n",
        "from matplotlib import pyplot as plt\n",
        "import numpy as np\n",
        "\n",
        "url = 'https://raw.githubusercontent.com/vision-agh/poc_sw/master/03_Histogram/'\n",
        "\n",
        "fileName = 'lena1.bmp'\n",
        "if not os.path.exists(fileName) :\n",
        "    r = requests.get(url + fileName, allow_redirects=True)\n",
        "    open(fileName, 'wb').write(r.content)\n",
        "\n",
        "fileName = 'lena2.bmp'\n",
        "if not os.path.exists(fileName) :\n",
        "    r = requests.get(url + fileName, allow_redirects=True)\n",
        "    open(fileName, 'wb').write(r.content)\n",
        "\n",
        "fileName = 'lena3.bmp'\n",
        "if not os.path.exists(fileName) :\n",
        "    r = requests.get(url + fileName, allow_redirects=True)\n",
        "    open(fileName, 'wb').write(r.content)\n",
        "\n",
        "fileName = 'lena4.bmp'\n",
        "if not os.path.exists(fileName) :\n",
        "    r = requests.get(url + fileName, allow_redirects=True)\n",
        "    open(fileName, 'wb').write(r.content)"
      ]
    },
    {
      "cell_type": "code",
      "execution_count": null,
      "metadata": {},
      "outputs": [],
      "source": [
        "lena_imgs = [cv2.imread(f'lena{i}.bmp', cv2.IMREAD_GRAYSCALE) for i in range(1, 4 + 1)]\n",
        "lena_hist = [cv2.calcHist([img], [0], None, [256], [0, 256]) for img in lena_imgs]\n",
        "\n",
        "for img, hist in zip(lena_imgs, lena_hist):\n",
        "    fig, axs = plt.subplots(1, 2, figsize=(20, 10), constrained_layout=True)\n",
        "    axs[0].imshow(img, cmap='gray', vmin=0, vmax=255)\n",
        "    axs[0].axis('off')\n",
        "    axs[1].plot(hist)\n",
        "    axs[1].set_xlim([0, 256])\n",
        "    axs[1].set_ylim([0, 3000])\n",
        "    axs[1].set_xlabel('Value')\n",
        "    axs[1].set_ylabel('Pixels')\n",
        "    axs[1].grid(True)\n",
        "\n",
        "plt.show()"
      ]
    },
    {
      "cell_type": "markdown",
      "metadata": {
        "collapsed": false,
        "id": "yvrZfMJZcDvV",
        "pycharm": {
          "name": "#%% md\n"
        }
      },
      "source": [
        "## Rozciąganie histogramu\n",
        "\n",
        "Najprostszą metodą poprawienia jakości obrazu jest tzw. rozciągnięcie histogramu.\n",
        "Polega na przeskalowaniu wartości pikseli w obrazie tak, aby wykorzystać cały dostępny zakres [0-255] (oczywiście w przypadku obrazów w odcieniach szarości w reprezentacji 8-bitowej).\n",
        "\n",
        "1. Wczytaj obraz *hist1.bmp* w skali szarości.\n",
        "Oblicz i wyświetl histogram rozpatrywanego obrazu (na wspólnym rysunku z obrazem).\n",
        "Zwróć uwagę na ilość widocznych szczegółów.\n",
        "2. Rozciągnij histogram obrazu. W tym celu można wykorzystać funkcję `cv2.normalize`.\n",
        "    - Pierwszym argumentem funkcji jest obraz poddawany operacji.\n",
        "    - Drugim argumentem jest tablica do której zostanie wpisany wynik.\n",
        "    Należy ją najpierw zainicjalizować.\n",
        "    Najlepiej zrobić to funkcją `np.zeros`, której pierwszym argumentem jest rozmiar obrazu (`I.shape`), a drugim typ danych (`uint8`).\n",
        "    Można również przekazać `None`, a wynik przypisać do nowej zmiennej.\n",
        "    - Trzecim argumentem jest minimalna wartość po normalizacji.\n",
        "    - Czwartym argumentem jest wartość maksymalna po normalizacji.\n",
        "    - Ostatnim argumentem jest typ wykorzystanej normy (uogólnienie pojęcia długości wektora).\n",
        "    Należy wykorzystać normę `cv2.NORM_MINMAX`.\n",
        "3. Wyświetl obraz oryginalny, po wykonanej operacji oraz ich histogramy.\n",
        "4. Czy ilość \"widocznych\" szczegółów uległa zmianie?"
      ]
    },
    {
      "cell_type": "code",
      "execution_count": null,
      "metadata": {
        "id": "9dmix38-cDvW",
        "pycharm": {
          "name": "#%% Zadanie 2 - rozciąganie\n"
        }
      },
      "outputs": [],
      "source": [
        "fileName = 'hist1.bmp'\n",
        "if not os.path.exists(fileName) :\n",
        "    r = requests.get(url + fileName, allow_redirects=True)\n",
        "    open(fileName, 'wb').write(r.content)\n",
        "\n",
        "fileName = 'hist2.bmp'\n",
        "if not os.path.exists(fileName) :\n",
        "    r = requests.get(url + fileName, allow_redirects=True)\n",
        "    open(fileName, 'wb').write(r.content)\n",
        "\n",
        "fileName = 'hist3.bmp'\n",
        "if not os.path.exists(fileName) :\n",
        "    r = requests.get(url + fileName, allow_redirects=True)\n",
        "    open(fileName, 'wb').write(r.content)\n",
        "\n",
        "fileName = 'hist4.bmp'\n",
        "if not os.path.exists(fileName) :\n",
        "    r = requests.get(url + fileName, allow_redirects=True)\n",
        "    open(fileName, 'wb').write(r.content)"
      ]
    },
    {
      "cell_type": "code",
      "execution_count": null,
      "metadata": {},
      "outputs": [],
      "source": [
        "hist_img = cv2.imread(f'hist1.bmp', cv2.IMREAD_GRAYSCALE)\n",
        "hist_img_normalized = cv2.normalize(hist_img, None, 0, 256, cv2.NORM_MINMAX)\n",
        "hist_histogram = cv2.calcHist([hist_img], [0], None, [256], [0, 256])\n",
        "hist_histogram_normalized = cv2.calcHist([hist_img_normalized], [0], None, [256], [0, 256])\n",
        "\n",
        "# Plot pics and histograms\n",
        "fig, axs = plt.subplots(1, 4, figsize=(15, 5), constrained_layout=True)\n",
        "axs[0].imshow(hist_img, cmap='gray', vmin=0, vmax=256)\n",
        "axs[0].axis('off')\n",
        "axs[1].imshow(hist_img_normalized, cmap='gray', vmin=0, vmax=256)\n",
        "axs[1].axis('off')\n",
        "axs[2].plot(hist_histogram)\n",
        "axs[2].set_xlabel('Value')\n",
        "axs[2].set_ylabel('Pixels')\n",
        "axs[2].grid(True)\n",
        "axs[3].plot(hist_histogram_normalized)\n",
        "plt.show()"
      ]
    },
    {
      "cell_type": "markdown",
      "metadata": {
        "collapsed": false,
        "id": "qQYQVoOEcDvW",
        "pycharm": {
          "name": "#%% md\n"
        }
      },
      "source": [
        "## Wyrównywanie histogramu\n",
        "\n",
        "<div style=\"text-align: justify\">\n",
        "Bardziej zaawansowaną metodą jest tzw. wyrównywanie histogramu (ang. *histogram equalization – HE*).\n",
        "Idea jest następująca: z punktu widzenia lepszego wykorzystania dostępnych poziomów jasności pożądane jest rozciągnięcie \"szczytów\" histogramu, a~skompresowanie \"dolin\" tak, aby taka sama liczba pikseli reprezentowana była przez każdy z dostępnych poziomów jasności (a przynjamniej przybliżona).\n",
        "Warto zwrócić uwagę, że takie przekształcenie powoduje częściową utratę informacji o szczegółach w obszarach \"dolin\".\n",
        "Inaczej mówiąc, dążymy do sytuacji, aby histogram był względnie jednostajny.\n",
        "Operacją, która pozwala wykonać wyrównywanie histogramu, jest przekształcenie LUT z funkcją przejścia w postaci histogramu skumulowanego danego obrazu.</div><br>\n",
        "\n",
        "<div style=\"text-align: justify\">\n",
        "Histogram skumulowany to funkcja obliczona na podstawie histogramu.\n",
        "Jej pierwszy element to liczba pikseli o odcieniu $0$.\n",
        "Kolejne wartości to liczba pikseli o odcieniach od $0$ do $n$.</div>\n",
        "\n",
        "\\begin{equation}\n",
        "C(n) = \\sum_{i=0}^{n} h(i)\n",
        "\\end{equation}\n",
        "\n",
        "<div style=\"text-align: justify\">\n",
        "Jeżeli histogram jest w postaci znormalizowanej (gęstość rozkładu prawdopodobieństwa) to histogram skumulowany stanowi dystrybuantę rozkładu prawdopodobieństwa.</div><br>\n",
        "\n",
        "1. Wyznacz histogram skumulowany dla obrazu *hist1.bmp*.\n",
        "W tym celu wykorzystaj metodę `cumsum` dla histogramu wczytanego obrazu.\n",
        "Nie przyjmuje ona żadnych argumentów, a zwraca skumulowane wartości tablicy, dla której została użyta.\n",
        "Histogram należy wyliczyć dla **obrazka wejściowego**, a nie dla wyniku rozciągania.\n",
        "2. Histogram skumulowany wyświetl razem z histogramem zwykłym na jednym wykresie (nie obok siebie).\n",
        "Na potrzeby wyświetlenia przeskaluj histogram skumulowany tak, by miał taką samą wartość maksymalną jak zwykły histogram.\n",
        "W tym celu wykorzystaj metodę `max`.\n",
        "3. Wyświetlenie kilku linii na jednym wykresie może być zrealizowane w następujący sposób:\n",
        "        figHistCum, axsHistCum = plt.subplots()\n",
        "\n",
        "        axsHistCum.plot(HHist)\n",
        "        axsHistCum.plot(CHistNorm)\n",
        "        axsHistCum.grid()\n",
        "4. Teraz zaimplementuj klasyczny algorytm wyrównywania histogramu.\n",
        "Wykorzystać należy obliczony histogram skumulowany.\n",
        "Należy go przeskalować w taki sposób aby na jego podstawie zrealizować przekształcenie LUT, czyli do zakresu 0 - 255.\n",
        "\n",
        ">Uwaga. Opisany algorytm wyrównywania histogramu jest wersją uproszczoną.\n",
        ">W wersji pełnej należy podczas skalowania tablicy przekodowań LUT pominąć elementy równe *0*.\n",
        ">\n",
        ">W tym celu należy wykorzystać funkcje `np.ma.masked_equal` i `np.ma.filled`.\n",
        ">Pierwsza służy do ukrywania elementów tablicy, natomiast druga zamienia ukryte elementy na podaną wartość.\n",
        ">W tym przypadku elementem ukrywanym i wpisywaną wartością byłoby *0*.\n",
        "\n",
        "5. Na kolejnym rysunku wyświetl obrazek po przekształceniu, jego histogram oraz histogram skumulowany.\n",
        "Co szczególnego można powiedzieć o jego histogramie i histogramie skumulowanym?\n",
        "6. W bibliotece *OpenCV* dostępna jest funkcja wykonująca wyrównywanie histogramu `cv2.equalizeHist`.\n",
        "Jej argumentem jest obraz, którego histogram zostanie wyrównany. Zwraca natomiast obraz wynikowy.\n",
        "Na kolejnym rysunku wyświetl wynik funkcji, jego histogram oraz histogram skumulowany.\n",
        "7. W wykorzystywanej bibliotece zaimplementowana jest również metoda adaptacyjnego wyrównywania histogramu algorytmem CLAHE (ang. *Contrast Limited Adaptive Histogram Equalization*}.\n",
        "   Kilka słów wyjaśnienia.\n",
        "   Wadą poznanej metody HE jest jej \"globalność\" rozumiana jako nieuwzględnianie lokalnych właściwości obrazu.\n",
        "   Dlatego też powstała metoda adaptacyjnego wyrównywania histogramu (AHE).\n",
        "   Jest ona spotykana w dwóch wariantach:\n",
        "   - dla każdego piksela niezależnie, w pewnym jego otoczeniu, wyznaczany jest histogram i przeprowadzane wyrównywanie.\n",
        "     Jak nietrudno się domyślić rozwiązanie jest dość kosztowne obliczeniowo.\n",
        "   - obraz wejściowy dzielony jest na nienachodzące na siebie prostokątne okna.\n",
        "     W każdym z okien obliczany jest histogram i przeprowadzane jest wyrównywanie.\n",
        "     W celu eliminacji błędów na granicy okien, stosuje się interpolację.\n",
        "\n",
        "   Metoda AHE ma jednak tą wadę, że w obszarach jednorodnych wzmacnia szum.\n",
        "   Dlatego też zaproponowano rozwiązanie CLAHE, które zakłada ograniczenie kontrastu (CL).\n",
        "   W metodzie definiuje się maksymalną wartość danego przedziału histogramu (próg ograniczenia kontrastu).\n",
        "   Piksele, które przekraczają próg są następnie równomiernie rozdzielane pomiędzy poszczególne przedziały.\n",
        "   Bardziej szczegółowy opis obu metod dostępny jest na [Wikipedii](https://en.wikipedia.org/wiki/Adaptive_histogram_equalization).\n",
        "\n",
        "8. W celu użycia algorytmu należy wywołać funkcję `cv2.createCLAHE`.\n",
        "    - Pierwszym parametrem jest próg ograniczenia kontrastu.\n",
        "    - Drugi parametr definiuje na ile prostokątów zostanie podzielony obraz w rzęch i kolumnach.\n",
        "    - Zwracany jest zainicjalizowany *smart pointer* do klasy `cv::CLAHE`.\n",
        "9. Aby wykonać wyrównywanie należy użyć metody `apply`.\n",
        "Jej argumentem jest obraz wejściowy. Zwracany jest obraz o zmodyfikowanym histogramie.\n",
        "10. Przetestuj różne parametry algorytmu CLAHE.\n",
        "11. W kolejnym etapie należy przetestować operacje (rozciąganie, wyrównywanie (HE) i adaptacyjne wyrównywanie CLAHE)  na histogramie dla obrazów rzeczywistych. *hist2.bmp*, *hist3.bmp*, *hist4.jpg*.\n",
        "W jednym oknie wyświetl: obraz oryginalny, rozciąganie, wyrównywanie HE oraz wyrównywanie CLAHE."
      ]
    },
    {
      "cell_type": "code",
      "execution_count": null,
      "metadata": {
        "id": "Hthp3Q0WcDvX",
        "pycharm": {
          "name": "#%% Zadanie 3 - histogram skumulowany\n"
        }
      },
      "outputs": [],
      "source": [
        "hist_img = cv2.imread(f'hist1.bmp', cv2.IMREAD_GRAYSCALE)\n",
        "hist_histogram = cv2.calcHist([hist_img], [0], None, [256], [0, 256])\n",
        "hist_histogram_cumsum = hist_histogram.cumsum()\n",
        "hist_histogram_normalized = cv2.normalize(hist_histogram, None, 0, 256, cv2.NORM_MINMAX)\n",
        "hist_histogram_cumsum_norm = cv2.normalize(hist_histogram_cumsum, None, 0, 256, cv2.NORM_MINMAX)\n",
        "\n",
        "plt.plot(hist_histogram_normalized)\n",
        "plt.plot(hist_histogram_cumsum_norm)\n",
        "plt.grid()\n",
        "plt.show()"
      ]
    },
    {
      "cell_type": "code",
      "execution_count": null,
      "metadata": {
        "id": "xxEuLreccDvY",
        "pycharm": {
          "name": "#%% Zadanie 3 - wyrównywanie\n"
        }
      },
      "outputs": [],
      "source": [
        "hist_histogram_cumsum_norm_2 = cv2.normalize(hist_histogram_cumsum, None, 0, 255, cv2.NORM_MINMAX)\n",
        "\n",
        "\n",
        "circle_img_lut = cv2.LUT(hist_img, hist_histogram_cumsum_norm_2).astype(np.uint8)\n",
        "circle_hist_lut = cv2.calcHist([circle_img_lut], [0], None, [256], [0, 256])\n",
        "circle_hist_lut_cumulative = circle_hist_lut.cumsum()\n",
        "\n",
        "fig, axs = plt.subplots(1, 3, figsize=(15, 5), constrained_layout=True)\n",
        "axs[0].imshow(circle_img_lut, cmap='gray', vmin=0, vmax=256)\n",
        "axs[0].axis('off')\n",
        "axs[1].plot(circle_hist_lut)\n",
        "axs[1].set_xlabel('Value')\n",
        "axs[1].set_ylabel('Pixels')\n",
        "axs[1].grid(True)\n",
        "axs[2].plot(circle_hist_lut_cumulative)\n",
        "plt.show()\n",
        "\n"
      ]
    },
    {
      "cell_type": "code",
      "execution_count": null,
      "metadata": {
        "id": "EajsxfqncDvY",
        "pycharm": {
          "name": "#%% Zadanie 3 - wyrównywanie OpenCV\n"
        }
      },
      "outputs": [],
      "source": [
        "hist_img = cv2.imread(f'hist1.bmp', cv2.IMREAD_GRAYSCALE)\n",
        "hist_img_eq = cv2.equalizeHist(hist_img)\n",
        "\n",
        "hist_hist_eq = cv2.calcHist([hist_img_eq], [0], None, [256], [0, 256])\n",
        "hist_hist_eq_cumsum = hist_hist_eq.cumsum()\n",
        "fig, axs = plt.subplots(1, 3, figsize=(15, 5), constrained_layout=True)\n",
        "axs[0].imshow(hist_img_eq, cmap='gray', vmin=0, vmax=256)\n",
        "axs[0].axis('off')\n",
        "axs[1].plot(hist_hist_eq)\n",
        "axs[1].set_xlabel('Value')\n",
        "axs[1].set_ylabel('Pixels')\n",
        "axs[1].grid(True)\n",
        "axs[2].plot(hist_hist_eq_cumsum)\n",
        "plt.show()\n"
      ]
    },
    {
      "cell_type": "code",
      "execution_count": null,
      "metadata": {
        "id": "xOEFxbVrcDvY",
        "pycharm": {
          "name": "#%% Zadanie 3 - CLAHE\n"
        }
      },
      "outputs": [],
      "source": [
        "def clahe(image):\n",
        "    _, axs = plt.subplots(len(image), 4, figsize=(15, 5 * len(image)), constrained_layout=True)\n",
        "    for ax, img in zip(axs, image):\n",
        "        img_normalized = cv2.normalize(img, None, 0, 255, cv2.NORM_MINMAX)\n",
        "        img_he = cv2.equalizeHist(img)\n",
        "        img_clahe = cv2.createCLAHE(clipLimit=2.0, tileGridSize=(8, 8)).apply(img)\n",
        "\n",
        "        ax[0].imshow(img, cmap='gray', vmin=0, vmax=255)\n",
        "        ax[0].axis('off')\n",
        "        ax[0].set_title('Original')\n",
        "        ax[1].imshow(img_normalized, cmap='gray', vmin=0, vmax=255)\n",
        "        ax[1].axis('off')\n",
        "        ax[1].set_title('Normalized')\n",
        "        ax[2].imshow(img_he, cmap='gray', vmin=0, vmax=255)\n",
        "        ax[2].axis('off')\n",
        "        ax[2].set_title('HE')\n",
        "        ax[3].imshow(img_clahe, cmap='gray', vmin=0, vmax=255)\n",
        "        ax[3].axis('off')\n",
        "        ax[3].set_title('CLAHE')\n",
        "\n",
        "    plt.show()\n",
        "\n",
        "\n",
        "clahe([cv2.imread(f'hist{i}.bmp', cv2.IMREAD_GRAYSCALE) for i in range(2, 4 + 1)])"
      ]
    },
    {
      "cell_type": "markdown",
      "metadata": {
        "collapsed": false,
        "id": "C9WYAOJTcDvZ",
        "pycharm": {
          "name": "#%% md\n"
        }
      },
      "source": [
        "## Histogram dla obrazów kolorowych i jego wyrównywanie\n",
        "\n",
        "1. Wczytaj obraz *lenaRGB.bmp*.\n",
        "2. Wykonaj konwersję przestrzeni barw z BGR do RGB.\n",
        "3. Wyświetl wczytany obraz oraz histogram dla każdej składowej przestrzeni barw.\n",
        "W tym celu można użyć drugiego argumentu wykorzystywanej funkcji (numer kanału).\n",
        "4. Wykonaj wyrównywanie dla każdej składowej obrazu. Połącz otrzymane składowe w nowy obraz i wyświetl go.\n",
        "Jaka jest zasadnicza wada takiego podejścia?\n",
        "5. Przekształć obraz wejściowy do przestrzeni HSV (flaga `cv2.COLOR_BGR2HSV`).\n",
        "Wyświetl histogramy poszczególnych składowych.\n",
        "Manipulacji dokonujemy na składowej odpowiadającej za jasność, czyli V.\n",
        "Wykonaj wyrównywanie histogramu dla tej składowej.\n",
        "Dokonaj podmiany składowej V i wyświetl rezultat operacji.\n",
        "Uprzednio przeprowadź konwersję HSV->RGB (flaga `cv2.COLOR_HSV2RGB`).\n",
        "6. Wykonaj te same operacje dla obrazu *jezioro.jpg*."
      ]
    },
    {
      "cell_type": "code",
      "execution_count": null,
      "metadata": {
        "id": "y5T31GV3cDvZ",
        "pycharm": {
          "name": "#%% Zadanie 4 - histogram\n"
        }
      },
      "outputs": [],
      "source": [
        "fileName = 'lenaRGB.bmp'\n",
        "if not os.path.exists(fileName) :\n",
        "    r = requests.get(url + fileName, allow_redirects=True)\n",
        "    open(fileName, 'wb').write(r.content)\n",
        "\n",
        "fileName = 'jezioro.jpag'\n",
        "if not os.path.exists(fileName) :\n",
        "    r = requests.get(url + fileName, allow_redirects=True)\n",
        "    open(fileName, 'wb').write(r.content)"
      ]
    },
    {
      "cell_type": "code",
      "execution_count": null,
      "metadata": {
        "id": "vzj4kEtOcDva",
        "pycharm": {
          "name": "#%% Zadanie 4 - wyrównanie\n"
        }
      },
      "outputs": [],
      "source": [
        "lenaRGB, jezioroRGB = cv2.imread('lenaRGB.bmp'), cv2.imread('jezioro.jpg')\n",
        "\n",
        "lenaRGB = cv2.cvtColor(lenaRGB, cv2.COLOR_BGR2RGB)\n",
        "jezioroRGB = cv2.cvtColor(jezioroRGB, cv2.COLOR_BGR2RGB)\n",
        "\n",
        "def RGBHist(img):\n",
        "    R, G, B = cv2.split(img)\n",
        "    histograms = [cv2.calcHist([colour], [0], None, [256], [0, 256]) for colour in [R, G, B]]\n",
        "    _, axs = plt.subplots(1, 4, figsize=(15, 5), constrained_layout=True)\n",
        "    axs[0].imshow(img)\n",
        "    axs[0].axis('off')\n",
        "    axs[1].plot(histograms[0], color='red')\n",
        "    axs[2].plot(histograms[1], color='green')\n",
        "    axs[3].plot(histograms[2], color='blue')\n",
        "    plt.grid()\n",
        "    plt.show()\n",
        "\n",
        "RGBHist(lenaRGB)\n",
        "RGBHist(jezioroRGB)\n",
        "\n"
      ]
    },
    {
      "cell_type": "code",
      "execution_count": null,
      "metadata": {
        "id": "sExCMbOYcDva",
        "pycharm": {
          "name": "#%% Zadanie 4 - HSV histogram\n"
        }
      },
      "outputs": [],
      "source": [
        "def eq4EachRGB(image):\n",
        "    r, g, b = cv2.split(image)\n",
        "    rgb_eq = [cv2.equalizeHist(colour) for colour in [r, g, b]]\n",
        "    img_merged = cv2.merge(rgb_eq)\n",
        "\n",
        "    _, axs = plt.subplots(1, 5, figsize=(15, 5), constrained_layout=True)\n",
        "    axs[0].imshow(image)\n",
        "    axs[0].axis('off')\n",
        "    for i, c in enumerate(['r', 'g', 'b']):\n",
        "        axs[i+1].imshow(rgb_eq[i], cmap='gray', vmin=0, vmax=255)\n",
        "        axs[i+1].axis('off')\n",
        "    axs[4].imshow(img_merged)\n",
        "    axs[4].axis('off')\n",
        "\n",
        "    plt.show()"
      ]
    },
    {
      "cell_type": "code",
      "execution_count": null,
      "metadata": {
        "id": "AGV4sG7TcDvb",
        "pycharm": {
          "name": "#%% Zadanie 4 - HSV wyrównanie\n"
        }
      },
      "outputs": [],
      "source": [
        "eq4EachRGB(lenaRGB)\n",
        "eq4EachRGB(jezioroRGB)\n"
      ]
    },
    {
      "cell_type": "code",
      "execution_count": null,
      "metadata": {},
      "outputs": [],
      "source": [
        "lenaRGB, jezioroRGB = cv2.imread('lenaRGB.bmp'), cv2.imread('jezioro.jpg')"
      ]
    },
    {
      "cell_type": "code",
      "execution_count": null,
      "metadata": {},
      "outputs": [],
      "source": [
        "def HistHSV(img):\n",
        "    img = cv2.cvtColor(img, cv2.COLOR_BGR2HSV)\n",
        "    h, s, v = cv2.split(img)\n",
        "    histograms = [cv2.calcHist([brightness], [0], None, [256], [0, 256]) for brightness in [h, s, v]]\n",
        "    v = cv2.equalizeHist(v)\n",
        "    hist_eq = [cv2.calcHist([brightness], [0], None, [256], [0, 256]) for brightness in [h, s, v]]\n",
        "    merged = cv2.merge([h, s, v])\n",
        "    img = cv2.cvtColor(img, cv2.COLOR_HSV2RGB)\n",
        "    img_merged = cv2.cvtColor(merged, cv2.COLOR_HSV2RGB)\n",
        "    \n",
        "\n",
        "    _, axs = plt.subplots(2, 4, figsize=(15, 5), constrained_layout=True)\n",
        "    axs[0][0].imshow(img)\n",
        "    axs[0][0].axis('off')\n",
        "    for i in range(len(histograms)):\n",
        "        axs[0][i+1].plot(histograms[i])\n",
        "        axs[0][i+1].grid(True)\n",
        "    axs[1][0].imshow(img_merged)\n",
        "    axs[1][0].axis('off')\n",
        "    for i in range(len(hist_eq)):\n",
        "        axs[1][i+1].plot(hist_eq[i])\n",
        "        axs[1][i+1].grid(True)\n",
        "\n",
        "    plt.show()"
      ]
    },
    {
      "cell_type": "code",
      "execution_count": null,
      "metadata": {},
      "outputs": [],
      "source": [
        "HistHSV(lenaRGB)\n",
        "HistHSV(jezioroRGB)"
      ]
    },
    {
      "cell_type": "code",
      "execution_count": null,
      "metadata": {},
      "outputs": [],
      "source": []
    },
    {
      "cell_type": "code",
      "execution_count": null,
      "metadata": {},
      "outputs": [],
      "source": []
    }
  ],
  "metadata": {
    "colab": {
      "collapsed_sections": [],
      "provenance": []
    },
    "kernelspec": {
      "display_name": "Python 3",
      "language": "python",
      "name": "python3"
    },
    "language_info": {
      "codemirror_mode": {
        "name": "ipython",
        "version": 3
      },
      "file_extension": ".py",
      "mimetype": "text/x-python",
      "name": "python",
      "nbconvert_exporter": "python",
      "pygments_lexer": "ipython3",
      "version": "3.11.5"
    }
  },
  "nbformat": 4,
  "nbformat_minor": 0
}
